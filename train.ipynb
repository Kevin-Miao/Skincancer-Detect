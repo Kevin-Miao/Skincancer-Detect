{
 "cells": [
  {
   "cell_type": "code",
   "execution_count": 41,
   "metadata": {},
   "outputs": [],
   "source": [
    "from dataset import *\n",
    "from utils import *\n",
    "import wandb\n",
    "import torchvision.transforms as transforms\n",
    "import torch.optim as optim\n",
    "from torchvision.models.detection.faster_rcnn import FastRCNNPredictor, FasterRCNN\n",
    "from torchvision.models.detection.backbone_utils import resnet_fpn_backbone\n",
    "import pandas as pd\n",
    "import numpy as np"
   ]
  },
  {
   "cell_type": "code",
   "execution_count": 85,
   "metadata": {},
   "outputs": [
    {
     "output_type": "stream",
     "name": "stdout",
     "text": [
      "The autoreload extension is already loaded. To reload it, use:\n  %reload_ext autoreload\n"
     ]
    }
   ],
   "source": [
    "%load_ext autoreload\n",
    "%autoreload 2\n",
    "import dataset"
   ]
  },
  {
   "source": [
    "## Weights and Biases"
   ],
   "cell_type": "markdown",
   "metadata": {}
  },
  {
   "cell_type": "code",
   "execution_count": 94,
   "metadata": {},
   "outputs": [
    {
     "output_type": "stream",
     "name": "stderr",
     "text": [
      "Failed to query for notebook name, you can set it manually with the WANDB_NOTEBOOK_NAME environment variable\n",
      "\u001b[34m\u001b[1mwandb\u001b[0m: Currently logged in as: \u001b[33mkevin-miao\u001b[0m (use `wandb login --relogin` to force relogin)\n",
      "\u001b[34m\u001b[1mwandb\u001b[0m: wandb version 0.10.29 is available!  To upgrade, please run:\n",
      "\u001b[34m\u001b[1mwandb\u001b[0m:  $ pip install wandb --upgrade\n"
     ]
    },
    {
     "output_type": "display_data",
     "data": {
      "text/plain": "<IPython.core.display.HTML object>",
      "text/html": "\n                Tracking run with wandb version 0.10.8<br/>\n                Syncing run <strong style=\"color:#cdcd00\">eternal-sun-1</strong> to <a href=\"https://wandb.ai\" target=\"_blank\">Weights & Biases</a> <a href=\"https://docs.wandb.com/integrations/jupyter.html\" target=\"_blank\">(Documentation)</a>.<br/>\n                Project page: <a href=\"https://wandb.ai/kevin-miao/SkinDetection\" target=\"_blank\">https://wandb.ai/kevin-miao/SkinDetection</a><br/>\n                Run page: <a href=\"https://wandb.ai/kevin-miao/SkinDetection/runs/1i9f9q9u\" target=\"_blank\">https://wandb.ai/kevin-miao/SkinDetection/runs/1i9f9q9u</a><br/>\n                Run data is saved locally in <code>wandb/run-20210505_174412-1i9f9q9u</code><br/><br/>\n            "
     },
     "metadata": {}
    },
    {
     "output_type": "execute_result",
     "data": {
      "text/html": "<h1>Run(1i9f9q9u)</h1><p></p><iframe src=\"https://wandb.ai/kevin-miao/SkinDetection/runs/1i9f9q9u\" style=\"border:none;width:100%;height:400px\"></iframe>",
      "text/plain": [
       "<wandb.sdk.wandb_run.Run at 0x7fd73e032d90>"
      ]
     },
     "metadata": {},
     "execution_count": 94
    }
   ],
   "source": [
    "wandb.init()"
   ]
  },
  {
   "cell_type": "markdown",
   "metadata": {},
   "source": [
    "## Hyperparameters"
   ]
  },
  {
   "cell_type": "code",
   "execution_count": 86,
   "metadata": {},
   "outputs": [],
   "source": [
    "### HYPERPARAM\n",
    "\n",
    "batchsize = 2\n",
    "in_dim = (300,300)\n",
    "normalization_data = torch.load('mean-std.pt')\n",
    "num_classes = 7\n",
    "print_every = 10\n",
    "\n",
    "### CONSTANTS\n",
    "diseases = ['akiec', 'bcc', 'bkl', 'df', 'mel', 'nv', 'vasc']\n",
    "mapping = {'akiec': 0, 'bcc': 1, 'bkl': 2, 'df': 3, 'mel': 4, 'nv': 5, 'vasc': 6}\n",
    "inv_mapping = {mapping[k]:k for k in mapping.keys()}\n"
   ]
  },
  {
   "cell_type": "markdown",
   "metadata": {},
   "source": [
    "## Data Loading"
   ]
  },
  {
   "cell_type": "code",
   "execution_count": 87,
   "metadata": {},
   "outputs": [],
   "source": [
    "dataset = SkinData('/', 'final.csv', transform=transforms.Compose([ToTensor, Normalizer(normalization_data)]))\n",
    "train_data, test_data, valid_data = torch.utils.data.random_split(dataset,[int(0.7 * len(dataset)), int(0.15 * len(dataset)), int(0.15 * len(dataset))+1],  generator=torch.Generator().manual_seed(42))\n",
    "data_loader_train = torch.utils.data.DataLoader(train_data, batch_size=batchsize, collate_fn = collate_fn)\n",
    "data_loader_test = torch.utils.data.DataLoader(test_data, batch_size=batchsize, collate_fn = collate_fn)\n",
    "data_loader_valid =  torch.utils.data.DataLoader(valid_data, batch_size=batchsize, collate_fn = collate_fn)"
   ]
  },
  {
   "cell_type": "markdown",
   "metadata": {},
   "source": [
    "## Model"
   ]
  },
  {
   "cell_type": "code",
   "execution_count": 88,
   "metadata": {},
   "outputs": [],
   "source": [
    "def initialize_model():\n",
    "    model = torchvision.models.detection.fasterrcnn_resnet50_fpn(pretrained=True)\n",
    "    in_features = model.roi_heads.box_predictor.cls_score.in_features\n",
    "    model.roi_heads.box_predictor = FastRCNNPredictor(in_features, num_classes + 1)\n",
    "    return model"
   ]
  },
  {
   "cell_type": "code",
   "execution_count": 89,
   "metadata": {},
   "outputs": [],
   "source": [
    "model = initialize_model()"
   ]
  },
  {
   "cell_type": "code",
   "execution_count": 90,
   "metadata": {},
   "outputs": [],
   "source": [
    "torch.save(model.state_dict(), 'fast_rcnn_v1_state.pt')\n",
    "torch.save(model, 'fast_rcnn_v1.pt')"
   ]
  },
  {
   "cell_type": "code",
   "execution_count": 97,
   "metadata": {},
   "outputs": [
    {
     "output_type": "stream",
     "name": "stdout",
     "text": [
      "[{'boxes': tensor([[109.0209, 166.9512, 475.0287, 317.7222],\n        [128.7600,  93.1953, 479.0657, 253.2561],\n        [580.8607, 117.2176, 585.3320, 119.8537],\n        [592.4319, 127.0628, 594.7354, 134.3502],\n        [579.8682, 116.4488, 585.2988, 118.8200],\n        [588.3268, 126.8427, 591.4795, 128.9163],\n        [579.7222, 115.1601, 584.8126, 118.0947],\n        [ 54.9314, 138.4244, 413.3044, 284.0403],\n        [580.4732, 118.5385, 585.6151, 121.0097],\n        [593.1764, 126.5080, 595.3911, 134.0532],\n        [579.0324, 113.4385, 582.6773, 115.5477],\n        [591.2132, 128.9664, 594.5183, 131.2779],\n        [577.9556, 114.9260, 583.8983, 117.1593],\n        [579.0713, 115.0445, 582.6028, 116.6945],\n        [175.8836, 246.4905, 177.0421, 257.4037],\n        [580.8677, 116.1735, 587.1180, 119.4146],\n        [ 62.1311, 237.0859, 430.6118, 371.2261],\n        [174.9132, 245.4762, 176.4623, 256.9381],\n        [593.0248, 124.3834, 596.2305, 133.1764],\n        [391.3267, 297.3414, 392.1768, 304.0675],\n        [421.9852, 259.1622, 423.6259, 268.7353],\n        [423.6640, 256.7885, 425.5193, 266.9703],\n        [420.1169, 128.3136, 421.0135, 136.5765],\n        [194.5077, 187.7345, 195.0137, 194.8571],\n        [392.1368, 297.2925, 392.8447, 303.9357],\n        [393.9745, 295.5821, 394.8242, 302.6678],\n        [174.5075, 249.8403, 175.9256, 259.7549],\n        [192.9130, 187.2228, 193.5536, 194.6387],\n        [421.3006, 257.2918, 423.0732, 266.9269],\n        [586.4854, 120.1588, 589.9592, 126.5936],\n        [421.4099, 126.6656, 421.9160, 132.3069],\n        [394.6514, 295.0128, 395.3463, 302.2057],\n        [422.2160, 263.8145, 426.1750, 267.6081],\n        [585.3416, 118.2660, 587.2879, 122.9447],\n        [578.7886, 112.5500, 585.3245, 117.2670],\n        [137.4256, 299.5648, 141.8081, 303.6406],\n        [422.6130, 261.1937, 424.3508, 270.7274],\n        [421.3495, 128.7542, 421.7978, 134.0895],\n        [586.7466, 120.7495, 592.2545, 124.3829],\n        [424.0724, 262.3293, 428.0809, 266.0266],\n        [390.9324, 298.1966, 391.7491, 305.0452],\n        [587.5729, 122.7195, 589.8993, 127.3331],\n        [589.9296, 126.8034, 594.7483, 130.1889],\n        [586.0999, 120.1403, 588.2020, 125.0092],\n        [420.9228, 254.9410, 422.6093, 264.6128],\n        [421.5672, 128.5669, 422.0804, 134.1095],\n        [423.7284, 264.2229, 426.8904, 267.0902],\n        [423.0845, 261.4180, 425.0686, 271.2386],\n        [585.0103, 118.1396, 588.0351, 125.3144],\n        [346.5724,   9.5922, 351.3745,  33.6583],\n        [579.8461, 116.0811, 588.3644, 121.8645],\n        [421.7917, 127.8782, 422.2349, 133.4588],\n        [174.9650, 255.3066, 176.0520, 264.2003],\n        [146.1178, 284.0265, 147.9943, 310.5611],\n        [578.6052, 110.8404, 582.9742, 114.5917],\n        [391.7193, 298.4316, 392.4019, 304.9680],\n        [423.2605, 252.6057, 424.9940, 262.6417],\n        [420.6289, 261.1825, 422.1013, 269.9667],\n        [171.1697, 127.2612, 552.0021, 387.0085],\n        [587.5285, 127.8391, 590.3008, 129.9159],\n        [192.1830, 219.4779, 510.5477, 349.9930],\n        [348.8699,  11.0600, 352.6667,  48.1231],\n        [595.0281, 128.2164, 598.0635, 136.1950],\n        [351.9199,  39.5495, 356.0138,  54.8803],\n        [419.7770, 259.2777, 421.2028, 267.9568],\n        [422.5512, 124.0886, 423.5198, 132.3402],\n        [592.2593, 129.8821, 597.2953, 133.2457],\n        [422.1543, 127.7202, 423.0407, 135.8875],\n        [586.2032, 122.8715, 588.6908, 127.7309],\n        [129.9973, 301.9472, 132.6069, 318.7387],\n        [143.0717, 282.4252, 144.7046, 309.1496],\n        [136.3949, 288.5652, 142.3983, 300.8013],\n        [583.7136, 118.6045, 585.6383, 122.9291],\n        [420.1842, 253.0139, 421.7625, 262.3235],\n        [172.3955,  64.9927, 425.5696, 187.9915],\n        [422.8189, 126.1224, 423.7315, 134.0683],\n        [132.0018, 285.6498, 134.1264, 308.1461],\n        [395.5844, 292.7575, 396.2235, 299.2543],\n        [237.0010,  73.6445, 526.4991, 212.2489],\n        [587.8678, 120.2548, 590.0330, 125.0658],\n        [419.1950, 255.2437, 420.4670, 263.6673],\n        [578.5367, 111.6885, 584.7448, 115.4161],\n        [445.7373, 162.5080, 447.1887, 171.8581],\n        [421.4557, 263.2848, 422.9940, 271.9585],\n        [422.2116, 130.0633, 422.7339, 135.8222],\n        [400.2781, 287.8643, 401.8479, 298.0981],\n        [577.6508, 112.7073, 580.7155, 114.3934],\n        [444.1307, 164.7297, 445.5052, 175.7645],\n        [432.3125, 420.3671, 436.6230, 423.1796],\n        [396.7778, 292.6356, 397.6165, 299.4220],\n        [135.9932, 298.1378, 142.9028, 305.3131],\n        [445.2874, 160.7020, 446.8781, 169.8015],\n        [423.4831, 124.3442, 424.6211, 132.5555],\n        [128.7861, 300.3911, 134.1732, 320.7286],\n        [584.3412, 116.2970, 586.4437, 121.0773],\n        [129.7891, 294.7457, 135.7256, 318.3271],\n        [424.3989, 265.0687, 428.0902, 267.7224],\n        [424.6473, 263.4200, 429.8879, 266.6915],\n        [155.5872, 287.4938, 467.8158, 402.2035],\n        [395.6257, 295.3106, 396.8541, 303.5143]], grad_fn=<StackBackward>), 'labels': tensor([5, 5, 4, 4, 4, 4, 4, 5, 4, 4, 4, 4, 4, 4, 4, 4, 5, 4, 4, 4, 4, 4, 4, 4,\n        4, 4, 4, 4, 4, 4, 4, 4, 4, 4, 4, 4, 4, 4, 4, 4, 4, 4, 4, 4, 4, 4, 4, 4,\n        4, 5, 4, 4, 4, 4, 4, 4, 4, 4, 5, 4, 5, 5, 4, 4, 4, 4, 4, 4, 4, 4, 4, 5,\n        4, 4, 5, 4, 5, 4, 5, 4, 4, 4, 4, 4, 4, 4, 4, 4, 4, 4, 4, 4, 4, 4, 4, 4,\n        4, 4, 5, 4]), 'scores': tensor([0.7202, 0.6856, 0.6706, 0.6640, 0.6563, 0.6535, 0.6499, 0.6473, 0.6408,\n        0.6383, 0.6361, 0.6350, 0.6218, 0.6115, 0.6029, 0.6022, 0.5857, 0.5793,\n        0.5771, 0.5763, 0.5742, 0.5741, 0.5728, 0.5709, 0.5709, 0.5673, 0.5663,\n        0.5622, 0.5606, 0.5590, 0.5568, 0.5548, 0.5535, 0.5517, 0.5506, 0.5500,\n        0.5499, 0.5491, 0.5479, 0.5474, 0.5465, 0.5453, 0.5452, 0.5451, 0.5439,\n        0.5422, 0.5417, 0.5407, 0.5402, 0.5393, 0.5382, 0.5379, 0.5375, 0.5364,\n        0.5339, 0.5337, 0.5330, 0.5330, 0.5297, 0.5292, 0.5281, 0.5276, 0.5265,\n        0.5249, 0.5244, 0.5234, 0.5230, 0.5214, 0.5202, 0.5170, 0.5165, 0.5164,\n        0.5160, 0.5156, 0.5153, 0.5141, 0.5139, 0.5122, 0.5118, 0.5110, 0.5104,\n        0.5088, 0.5088, 0.5084, 0.5077, 0.5071, 0.5063, 0.5042, 0.5030, 0.5027,\n        0.5023, 0.5015, 0.5011, 0.5007, 0.4987, 0.4987, 0.4983, 0.4981, 0.4976,\n        0.4968], grad_fn=<IndexBackward>)}, {'boxes': tensor([[121.1421, 372.9667, 126.1130, 379.3651],\n        [215.6343, 126.0686, 451.4924, 281.0919],\n        [306.2399, 160.1079, 308.7633, 162.2072],\n        [203.7089,  65.5736, 436.7050, 230.3427],\n        [196.0537, 181.3946, 459.5196, 330.7461],\n        [391.7897, 317.3620, 393.2455, 326.2226],\n        [122.5483, 372.3872, 128.0403, 380.1329],\n        [312.3372, 171.9348, 316.3756, 173.9970],\n        [390.6207, 318.9729, 396.2284, 322.1344],\n        [120.6040, 376.3512, 123.4440, 379.7208],\n        [234.7217, 193.0461, 237.9502, 197.6449],\n        [275.2842, 145.0890, 275.6160, 149.6876],\n        [275.4700, 144.8199, 275.7711, 149.7590],\n        [306.1360, 166.1709, 309.1132, 168.1618],\n        [120.7264, 375.1999, 125.5269, 384.4642],\n        [274.1776, 146.3561, 274.4944, 150.8851],\n        [233.4046, 192.8543, 236.2451, 196.6034],\n        [119.0292, 375.2333, 122.6609, 383.8183],\n        [273.9913, 146.9032, 274.3064, 151.0210],\n        [379.4964, 121.2388, 380.1344, 127.5360],\n        [379.5803, 119.9775, 380.5431, 126.5548],\n        [306.3040, 167.4979, 309.3846, 169.5598],\n        [229.8436, 238.3277, 233.5926, 243.8972],\n        [379.3983, 119.3200, 380.1799, 125.8612],\n        [393.3703, 311.2490, 394.1686, 318.5184],\n        [175.5878, 241.2588, 431.3019, 365.1215],\n        [378.6873, 118.1495, 379.3977, 124.5222],\n        [390.2430, 321.6886, 395.1829, 325.3219],\n        [119.5960, 376.9168, 122.2956, 379.9731],\n        [381.1458, 122.8912, 381.8091, 129.5912],\n        [379.5798, 122.1450, 380.7917, 129.0713],\n        [382.0108, 124.3399, 383.1996, 132.2403],\n        [379.7386, 117.9363, 380.5704, 124.2319],\n        [381.5244, 121.2327, 382.4881, 128.1903],\n        [342.2518, 124.6958, 345.4158, 127.8298],\n        [378.0220, 120.3316, 379.0039, 127.8567],\n        [380.4033, 123.6593, 381.7230, 131.0212],\n        [380.0537, 123.5241, 380.5921, 129.9874],\n        [380.0902, 117.5260, 380.9044, 123.5929],\n        [389.4711, 322.3277, 394.1781, 326.2186],\n        [119.3521, 373.7511, 123.3114, 378.8177],\n        [393.5658, 310.6728, 394.4241, 317.6704],\n        [126.7178,  56.5499, 374.8061, 275.3526],\n        [228.4133, 237.9880, 232.0217, 243.3337],\n        [379.1690, 124.7011, 382.7912, 128.5753],\n        [382.9123, 123.9574, 383.9646, 132.2766],\n        [378.3766, 124.6868, 381.6683, 128.0294],\n        [378.7133, 122.6953, 379.8241, 130.2447],\n        [343.1887, 123.1994, 346.6593, 127.1057],\n        [260.0331, 150.0612, 262.9194, 152.2196],\n        [117.6457, 375.2392, 121.0770, 382.0148],\n        [388.1800, 318.0020, 389.6388, 326.2325],\n        [379.9988, 126.6300, 383.6578, 130.8264],\n        [380.3300, 127.6833, 384.8465, 132.3812],\n        [343.6783, 122.4372, 346.8378, 125.5124],\n        [262.0401, 228.5462, 479.1563, 355.1552],\n        [231.7315, 239.3666, 235.7495, 244.8193],\n        [390.0775, 322.0233, 391.1458, 329.4541],\n        [379.9689, 129.6211, 384.7128, 134.2203],\n        [260.4054, 152.7091, 262.9595, 154.4798],\n        [124.2133, 372.1587, 129.6372, 380.9654],\n        [393.1082, 319.4458, 398.4731, 322.1870],\n        [136.0971, 168.6882, 397.0807, 374.7231],\n        [247.5256, 186.5003, 248.3837, 198.1189],\n        [388.4979, 311.1999, 389.4003, 318.1312],\n        [117.1451, 376.4605, 120.7598, 384.4067],\n        [232.3960, 193.1365, 235.1624, 196.3806],\n        [379.6802, 131.6959, 384.7750, 136.4271],\n        [275.0388,  97.7928, 279.2964, 102.0543],\n        [122.1002, 376.5391, 126.4956, 381.8314],\n        [392.3412, 321.3171, 394.2811, 329.6044],\n        [246.3151, 190.6168, 247.3744, 201.7865],\n        [381.8379, 128.5217, 387.0860, 132.9560],\n        [387.7293, 311.5701, 388.5216, 317.9089],\n        [378.6683, 127.0812, 381.9796, 130.3459],\n        [384.9986, 318.6607, 390.0259, 320.7941],\n        [381.7714, 126.4886, 386.2672, 130.1362],\n        [275.8094,  98.6945, 280.3565, 103.1815],\n        [230.1136, 240.8985, 234.7514, 245.4717],\n        [380.0056, 127.1235, 381.3647, 135.0287],\n        [389.1714, 323.4265, 393.6305, 328.7737],\n        [117.9377, 374.3929, 121.8145, 378.8425],\n        [247.2923, 187.9387, 248.2172, 200.2024],\n        [391.5469, 322.2495, 397.1093, 325.4173],\n        [380.8259, 131.2070, 386.7119, 136.1939],\n        [261.9039, 150.7968, 264.3947, 152.4705],\n        [387.3123, 311.0845, 388.1378, 317.1154],\n        [246.6815, 191.6241, 247.6029, 199.4617],\n        [261.6555, 149.1621, 264.5256, 151.2022],\n        [391.0032, 244.8012, 392.5053, 253.0050],\n        [276.7615,  98.0446, 281.8479, 101.8560],\n        [378.2432, 128.8174, 381.9805, 132.4324],\n        [386.9144, 311.0878, 387.7384, 316.9574],\n        [389.9416, 246.5145, 391.5301, 255.3564],\n        [378.3578, 134.1189, 383.3869, 139.0713],\n        [393.6136, 176.7585, 395.2404, 186.4111],\n        [243.4431, 194.8097, 244.8506, 203.5180],\n        [357.5301, 105.5380, 377.7778, 151.0740],\n        [386.5782, 312.0493, 387.4560, 319.3541],\n        [397.6988, 172.8222, 399.3305, 182.0477]], grad_fn=<StackBackward>), 'labels': tensor([5, 5, 4, 5, 5, 4, 5, 4, 4, 5, 4, 4, 4, 4, 5, 4, 4, 5, 4, 4, 4, 4, 4, 4,\n        4, 5, 4, 4, 5, 4, 4, 4, 4, 4, 4, 4, 4, 4, 4, 4, 5, 4, 5, 4, 4, 4, 4, 4,\n        4, 4, 5, 4, 4, 4, 4, 5, 4, 4, 4, 4, 5, 4, 5, 4, 4, 5, 4, 4, 4, 5, 4, 4,\n        4, 4, 4, 4, 4, 4, 4, 4, 4, 5, 4, 4, 4, 4, 4, 4, 4, 4, 4, 4, 4, 4, 4, 4,\n        4, 4, 4, 4]), 'scores': tensor([0.6027, 0.5957, 0.5938, 0.5744, 0.5711, 0.5661, 0.5603, 0.5486, 0.5391,\n        0.5368, 0.5254, 0.5237, 0.5231, 0.5164, 0.5083, 0.5029, 0.5014, 0.5003,\n        0.4972, 0.4972, 0.4969, 0.4967, 0.4955, 0.4943, 0.4943, 0.4933, 0.4924,\n        0.4921, 0.4914, 0.4913, 0.4902, 0.4890, 0.4882, 0.4882, 0.4880, 0.4862,\n        0.4847, 0.4842, 0.4822, 0.4816, 0.4811, 0.4780, 0.4772, 0.4762, 0.4759,\n        0.4731, 0.4729, 0.4717, 0.4675, 0.4670, 0.4669, 0.4665, 0.4646, 0.4638,\n        0.4629, 0.4619, 0.4606, 0.4605, 0.4600, 0.4582, 0.4580, 0.4556, 0.4554,\n        0.4550, 0.4547, 0.4545, 0.4528, 0.4491, 0.4482, 0.4481, 0.4473, 0.4473,\n        0.4459, 0.4457, 0.4448, 0.4444, 0.4438, 0.4412, 0.4411, 0.4400, 0.4395,\n        0.4389, 0.4378, 0.4368, 0.4357, 0.4353, 0.4345, 0.4341, 0.4328, 0.4284,\n        0.4284, 0.4272, 0.4272, 0.4257, 0.4254, 0.4232, 0.4227, 0.4224, 0.4207,\n        0.4205], grad_fn=<IndexBackward>)}]\n"
     ]
    }
   ],
   "source": [
    "for i, d in enumerate(data_loader_train):\n",
    "    if i == 1:\n",
    "        break\n",
    "    im, tar = d\n",
    "    model.eval()\n",
    "    print(model(im))\n"
   ]
  },
  {
   "cell_type": "markdown",
   "metadata": {},
   "source": [
    "## Training"
   ]
  },
  {
   "cell_type": "code",
   "execution_count": 13,
   "metadata": {},
   "outputs": [
    {
     "output_type": "error",
     "ename": "NameError",
     "evalue": "name 'config' is not defined",
     "traceback": [
      "\u001b[0;31m---------------------------------------------------------------------------\u001b[0m",
      "\u001b[0;31mNameError\u001b[0m                                 Traceback (most recent call last)",
      "\u001b[0;32m<ipython-input-13-3c500c3c1024>\u001b[0m in \u001b[0;36m<module>\u001b[0;34m\u001b[0m\n\u001b[1;32m      1\u001b[0m \u001b[0;31m# Best Metric\u001b[0m\u001b[0;34m\u001b[0m\u001b[0;34m\u001b[0m\u001b[0;34m\u001b[0m\u001b[0m\n\u001b[1;32m      2\u001b[0m \u001b[0mbest_val\u001b[0m \u001b[0;34m=\u001b[0m \u001b[0;36m0\u001b[0m\u001b[0;34m\u001b[0m\u001b[0;34m\u001b[0m\u001b[0m\n\u001b[0;32m----> 3\u001b[0;31m \u001b[0;32mfor\u001b[0m \u001b[0mepoch\u001b[0m \u001b[0;32min\u001b[0m \u001b[0mrange\u001b[0m\u001b[0;34m(\u001b[0m\u001b[0mconfig\u001b[0m\u001b[0;34m.\u001b[0m\u001b[0mepochs\u001b[0m\u001b[0;34m)\u001b[0m\u001b[0;34m:\u001b[0m\u001b[0;34m\u001b[0m\u001b[0;34m\u001b[0m\u001b[0m\n\u001b[0m\u001b[1;32m      4\u001b[0m     \u001b[0;32mfor\u001b[0m \u001b[0mi\u001b[0m\u001b[0;34m,\u001b[0m \u001b[0md\u001b[0m \u001b[0;32min\u001b[0m \u001b[0menumerate\u001b[0m\u001b[0;34m(\u001b[0m\u001b[0mdata_loader_train\u001b[0m\u001b[0;34m)\u001b[0m\u001b[0;34m:\u001b[0m\u001b[0;34m\u001b[0m\u001b[0;34m\u001b[0m\u001b[0m\n\u001b[1;32m      5\u001b[0m \u001b[0;34m\u001b[0m\u001b[0m\n",
      "\u001b[0;31mNameError\u001b[0m: name 'config' is not defined"
     ]
    }
   ],
   "source": [
    "# Best Metric\n",
    "best_mAP = 0\n",
    "for epoch in range(config.epochs):\n",
    "    for i, d in enumerate(data_loader_train):\n",
    "\n",
    "        # Header\n",
    "        header = 10*\"=\"\n",
    "        short_header = 5 * '='\n",
    "        print(header, \"Epoch {}\".format(epoch), header)\n",
    "\n",
    "        # Metric Initialization\n",
    "        metrics = {'val_mAP': ClassMeter(diseases)}\n",
    "        metrics['train_loss'] = AverageMeter()\n",
    "        \n",
    "\n",
    "        # Training\n",
    "        model.train()\n",
    "\n",
    "        image, target = d\n",
    "        image = image.to(device)\n",
    "        target = target.to(device)\n",
    "        losses = model(image, target)\n",
    "        loss = sum(loss for loss in losses.values())\n",
    "        optimizer.zero_grad()\n",
    "        loss.backward()\n",
    "        optimizer.step()\n",
    "        lr_scheduler.step()\n",
    "\n",
    "        metrics['train_loss'].update(loss.item(), n=len(target))\n",
    "\n",
    "        # Log to weights and biases\n",
    "        wandb.log({'train_loss': metrics['train_loss'].avg})\n",
    "\n",
    "        # Print every 10 epochs\n",
    "        if i % (print_every) == 0:\n",
    "            print('[Epoch {} | {} {}] Training Loss: {}'.format(epoch, i, len(data_loader_train), metrics['train_loss'].avg)\n",
    "\n",
    "    with torch.no_grad():\n",
    "        calculate_AP(model, data_loader_valid, metrics)\n",
    "        \n",
    "        # Print Summary\n",
    "        print(short_header, \"Validation\", short_header)\n",
    "        current_mAP = metrics['val_mAP'].class_average())\n",
    "        print('[Val average mAP] : {}'.format(current_mAP)                                                                                                                           \n",
    "        # Log Values\n",
    "        # FIXME\n",
    "\n",
    "        # Log bounding box image sample to WandB\n",
    "        # FIXME\n",
    "\n",
    "        # SAVE BEST MODEL\n",
    "        if current_mAP > best_mAP:\n",
    "            torch.save(model.state_dict(), wandb.run.dir +\n",
    "                       '/best.pt'.format(epoch))\n",
    "            best_mAP = current_mAP\n",
    "\n",
    "        # SAVE EVERY FIVE EPOCHS\n",
    "        if epoch % 5 == 0:\n",
    "            torch.save(model.state_dict(), wandb.run.dir +\n",
    "                       '/epoch_{}.pt'.format(epoch))\n",
    "\n",
    "# Test mAP\n",
    "test_metrics = {'test_mAP': ClassMeter(diseases)}\n",
    "with torch.no_grad():\n",
    "    calculate_AP(model, data_loader_test, test_metrics)\n",
    "print(header, \"Test\", header)\n",
    "test_mAP = test_metrics['test_mAP'].class_average())\n",
    "print('[Test average mAP] : {}'.format(test_mAP) \n",
    "\n",
    "# LOG STUFF\n",
    "# FIXME\n",
    "        \n",
    "\n",
    "\n",
    "        "
   ]
  },
  {
   "cell_type": "code",
   "execution_count": 3,
   "metadata": {},
   "outputs": [],
   "source": [
    "import detectron2"
   ]
  },
  {
   "cell_type": "code",
   "execution_count": null,
   "metadata": {},
   "outputs": [],
   "source": []
  }
 ],
 "metadata": {
  "kernelspec": {
   "name": "python383jvsc74a57bd0082e9a3bcad0a290d0001e938aa60b99250c6c2ef33a923c00b70f9826caf4b7",
   "display_name": "Python 3.8.3 64-bit"
  },
  "language_info": {
   "codemirror_mode": {
    "name": "ipython",
    "version": 3
   },
   "file_extension": ".py",
   "mimetype": "text/x-python",
   "name": "python",
   "nbconvert_exporter": "python",
   "pygments_lexer": "ipython3",
   "version": "3.8.3"
  }
 },
 "nbformat": 4,
 "nbformat_minor": 2
}
{
 "cells": [
  {
   "cell_type": "code",
   "execution_count": 1,
   "metadata": {},
   "outputs": [],
   "source": [
    "from dataset import *\n",
    "import wandb\n",
    "import torchvision.transforms as transforms\n",
    "import torch.optim as optim\n",
    "from torchvision.models.detection.faster_rcnn import FastRCNNPredictor, FasterRCNN\n",
    "from torchvision.models.detection.backbone_utils import resnet_fpn_backbone\n",
    "import pandas as pd\n",
    "import numpy as np"
   ]
  },
  {
   "cell_type": "markdown",
   "metadata": {},
   "source": [
    "## Hyperparameters"
   ]
  },
  {
   "cell_type": "code",
   "execution_count": 175,
   "metadata": {},
   "outputs": [],
   "source": [
    "### HYPERPARAM\n",
    "\n",
    "batchsize = 2\n",
    "in_dim = (300,300)\n",
    "normalization_data = torch.load('mean-std.pt')\n",
    "num_classes = 7\n",
    "\n",
    "### CONSTANTS\n",
    "diseases = ['akiec', 'bcc', 'bkl', 'df', 'mel', 'nv', 'vasc']\n",
    "mapping = {'akiec': 0, 'bcc': 1, 'bkl': 2, 'df': 3, 'mel': 4, 'nv': 5, 'vasc': 6}\n",
    "inv_mapping = {mapping[k]:k for k in mapping.keys()}\n"
   ]
  },
  {
   "cell_type": "markdown",
   "metadata": {},
   "source": [
    "## Data Loading"
   ]
  },
  {
   "cell_type": "code",
   "execution_count": 171,
   "metadata": {},
   "outputs": [],
   "source": [
    "dataset = SkinData('/', 'final.csv', transform=transforms.Compose([ToTensor, Normalizer(normalization_data)]))\n",
    "train_data, test_data, valid_data = torch.utils.data.random_split(dataset,[int(0.7 * len(dataset)), int(0.15 * len(dataset)), int(0.15 * len(dataset))+1],  generator=torch.Generator().manual_seed(42))\n",
    "data_loader_train = torch.utils.data.DataLoader(train_data, batch_size=batchsize, collate_fn = collate_fn)\n",
    "data_loader_test = torch.utils.data.DataLoader(test_data, batch_size=batchsize, collate_fn = collate_fn)\n",
    "data_loader_valid =  torch.utils.data.DataLoader(valid_data, batch_size=batchsize, collate_fn = collate_fn)"
   ]
  },
  {
   "cell_type": "markdown",
   "metadata": {},
   "source": [
    "## Model"
   ]
  },
  {
   "cell_type": "code",
   "execution_count": 162,
   "metadata": {},
   "outputs": [],
   "source": [
    "def initialize_model():\n",
    "    model = torchvision.models.detection.fasterrcnn_resnet50_fpn(pretrained=True)\n",
    "    in_features = model.roi_heads.box_predictor.cls_score.in_features\n",
    "    model.roi_heads.box_predictor = FastRCNNPredictor(in_features, num_classes + 1)\n",
    "    return model"
   ]
  },
  {
   "cell_type": "code",
   "execution_count": 163,
   "metadata": {},
   "outputs": [],
   "source": [
    "model = initialize_model()"
   ]
  },
  {
   "cell_type": "code",
   "execution_count": 164,
   "metadata": {},
   "outputs": [],
   "source": [
    "torch.save(model.state_dict(), 'fast_rcnn_v1_state.pt')\n",
    "torch.save(model, 'fast_rcnn_v1.pt')"
   ]
  },
  {
   "cell_type": "markdown",
   "metadata": {},
   "source": [
    "## Training"
   ]
  },
  {
   "cell_type": "code",
   "execution_count": 167,
   "metadata": {},
   "outputs": [
    {
     "output_type": "stream",
     "name": "stdout",
     "text": [
      "({'area': 150997.0, 'labels': tensor([5]), 'boxes': tensor([[116.,  42., 487., 449.]], dtype=torch.float64), 'image_id': 'ISIC_0030405'}, {'area': 99084.0, 'labels': tensor([5]), 'boxes': tensor([[187.,  30., 463., 389.]], dtype=torch.float64), 'image_id': 'ISIC_0026515'})\n",
      "{'loss_classifier': tensor(1.3107, grad_fn=<NllLossBackward>), 'loss_box_reg': tensor(0.1040, grad_fn=<DivBackward0>), 'loss_objectness': tensor(0.4460, grad_fn=<BinaryCrossEntropyWithLogitsBackward>), 'loss_rpn_box_reg': tensor(0.0337, dtype=torch.float64, grad_fn=<DivBackward0>)}\n"
     ]
    }
   ],
   "source": [
    "# Best Metric\n",
    "best_val = 0\n",
    "for epoch in range(config.epochs):\n",
    "    for i, d in enumerate(data_loader_train):\n",
    "\n",
    "        # Header\n",
    "        header = 10*\"=\"\n",
    "        print(header, \"Epoch {}\".format(epoch), header)\n",
    "\n",
    "        # Metric Initialization\n",
    "        metrics = {name: ClassMeter(disease) for disease in diseases}\n",
    "        metrics['train_loss'] = AverageMeter()\n",
    "        metrics['val_loss'] = AverageMeter()\n",
    "        metrics['val_mAP'] = AverageMeter()\n",
    "        \n",
    "\n",
    "        # Training\n",
    "        model.train()\n",
    "\n",
    "        image, target = d\n",
    "        image = image.to(device)\n",
    "        target = target.to(device)\n",
    "        losses = model(image, target)\n",
    "        loss = sum(loss for loss in losses.values())\n",
    "        optimizer.zero_grad()\n",
    "        loss.backward()\n",
    "        optimizer.step()\n",
    "        lr_scheduler.step()\n",
    "\n",
    "        metrics['train_loss'].update(loss.item(), n=len(target))\n",
    "\n",
    "        # Log to weights and biases\n",
    "        # FIXME\n",
    "\n",
    "        # Print every 10 epochs\n",
    "        # FIXME\n",
    "\n",
    "    with torch.no_grad():\n",
    "        for i, d in enumerate(data_loader_valid):\n",
    "            model.train()\n",
    "            image, target = d\n",
    "            image = image.to(device)\n",
    "            losses = model(image)\n",
    "            loss = sum(loss for loss in losses.values())\n",
    "            metrics['val_loss'].update(loss.item(), n=len(target))\n",
    "            \n",
    "            model.eval()\n",
    "            # Calculate mAP\n",
    "            # FIXME\n",
    "        \n",
    "        # Print Summary\n",
    "        # FIXME\n",
    "\n",
    "        # Log Values\n",
    "        # FIXME\n",
    "\n",
    "        # Log bounding box image sample to WandB\n",
    "        # FIXME\n",
    "\n",
    "        # SAVE BEST MODEL\n",
    "        # FIXME\n",
    "\n",
    "        # SAVE EVERY FIVE EPOCHS\n",
    "        # FIXME\n",
    "\n",
    "\n",
    "\n",
    "        "
   ]
  }
 ],
 "metadata": {
  "kernelspec": {
   "name": "python383jvsc74a57bd0082e9a3bcad0a290d0001e938aa60b99250c6c2ef33a923c00b70f9826caf4b7",
   "display_name": "Python 3.8.3 64-bit"
  },
  "language_info": {
   "codemirror_mode": {
    "name": "ipython",
    "version": 3
   },
   "file_extension": ".py",
   "mimetype": "text/x-python",
   "name": "python",
   "nbconvert_exporter": "python",
   "pygments_lexer": "ipython3",
   "version": "3.8.3"
  }
 },
 "nbformat": 4,
 "nbformat_minor": 2
}